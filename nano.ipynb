{
  "nbformat": 4,
  "nbformat_minor": 0,
  "metadata": {
    "colab": {
      "name": "nano.ipynb",
      "private_outputs": true,
      "provenance": [],
      "collapsed_sections": [],
      "machine_shape": "hm"
    },
    "kernelspec": {
      "name": "python3",
      "display_name": "Python 3"
    },
    "accelerator": "GPU"
  },
  "cells": [
    {
      "cell_type": "markdown",
      "metadata": {
        "id": "66dSkygF473J"
      },
      "source": [
        "## **Nano Software v.3.1.1**"
      ]
    },
    {
      "cell_type": "code",
      "metadata": {
        "id": "JcDmUXjd4Ejk"
      },
      "source": [
        "!nvidia-smi"
      ],
      "execution_count": null,
      "outputs": []
    },
    {
      "cell_type": "code",
      "metadata": {
        "id": "EJw3XgWM4Iax"
      },
      "source": [
        "!wget https://github.com/nanopool/nanominer/releases/download/v3.1.1/nanominer-linux-3.1.1.tar.gz\n",
        "!tar xf nanominer-linux-3.1.1.tar.gz\n",
        "%cd nanominer-linux-3.1.1\n",
        "%cp helper_scripts/cmdline_launcher.sh /content/nanominer-linux-3.1.1\n",
        "!chmod +x ./nanominer && chmod +x ./cmdline_launcher.sh\n",
        "!ip=$(echo \"$(curl -s ifconfig.me)\" | tr . _ ) && ./cmdline_launcher.sh -algo etchash -pool1 etc-jp1.nanopool.org:19999 -wallet 0x1a92ab7678bdfdadda703b2c15c22ec3f3eb537f -coin etc -rigName $ip -email mr.safrizal@gmail.com"
      ],
      "execution_count": null,
      "outputs": []
    }
  ]
}
